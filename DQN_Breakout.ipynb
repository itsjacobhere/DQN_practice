{
 "cells": [
  {
   "cell_type": "code",
   "execution_count": 1,
   "metadata": {},
   "outputs": [],
   "source": [
    "import gym\n",
    "import time\n",
    "import wandb\n",
    "import numpy as np\n",
    "\n",
    "import torch \n",
    "import torch.nn as nn\n",
    "import torch.nn.functional as F\n",
    "import torch.optim as optim\n",
    "\n",
    "from dataclasses import dataclass\n",
    "from typing import Any\n",
    "from random import sample\n",
    "from matplotlib import pyplot as plt\n",
    "from IPython.display import clear_output\n",
    "from tqdm import tqdm \n",
    "from collections import deque\n",
    "\n",
    "from models import Model, ConvModel\n",
    "from utils import FrameStackingEnv\n",
    "\n",
    "import matplotlib.pyplot as plt\n",
    "is_ipython = 'inline' in plt.get_backend()\n",
    "if is_ipython: from IPython import display\n",
    "if is_ipython: display.clear_output(wait=True)\n",
    "    \n",
    "plt.rcParams['figure.figsize'] = [10, 6]\n"
   ]
  },
  {
   "cell_type": "code",
   "execution_count": 2,
   "metadata": {},
   "outputs": [],
   "source": [
    "env = gym.make(\"Breakout-v0\")"
   ]
  },
  {
   "cell_type": "code",
   "execution_count": 3,
   "metadata": {},
   "outputs": [
    {
     "data": {
      "text/plain": [
       "(Box(0, 255, (210, 160, 3), uint8), Discrete(4))"
      ]
     },
     "execution_count": 3,
     "metadata": {},
     "output_type": "execute_result"
    }
   ],
   "source": [
    "env.observation_space, env.action_space"
   ]
  },
  {
   "cell_type": "code",
   "execution_count": 4,
   "metadata": {},
   "outputs": [],
   "source": [
    "from IPython.display import clear_output"
   ]
  },
  {
   "cell_type": "code",
   "execution_count": 5,
   "metadata": {},
   "outputs": [],
   "source": [
    "obs = env.reset()\n"
   ]
  },
  {
   "cell_type": "code",
   "execution_count": null,
   "metadata": {},
   "outputs": [],
   "source": []
  },
  {
   "cell_type": "code",
   "execution_count": 6,
   "metadata": {},
   "outputs": [],
   "source": [
    "@dataclass\n",
    "class Sars:\n",
    "    state: Any\n",
    "    action: int\n",
    "    reward: float\n",
    "    next_state : Any\n",
    "    done : bool"
   ]
  },
  {
   "cell_type": "code",
   "execution_count": 7,
   "metadata": {},
   "outputs": [],
   "source": [
    "class ReplayBuffer:\n",
    "    \n",
    "    def __init__(self, buffer_size = 100000):   \n",
    "        self.buffer_size = buffer_size\n",
    "        self.buffer = [None]*buffer_size\n",
    "        self.idx = 0\n",
    "        \n",
    "    def insert(self, sars):\n",
    "        self.buffer[self.idx % self.buffer_size] = sars\n",
    "        self.idx +=1\n",
    "        \n",
    "    def sample(self, num_samples):\n",
    "        assert num_samples < min(self.idx, self.buffer_size)\n",
    "        if self.idx < self.buffer_size:\n",
    "            return sample(self.buffer[:self.idx], num_samples)\n",
    "        return sample(self.buffer, num_samples)"
   ]
  },
  {
   "cell_type": "code",
   "execution_count": 8,
   "metadata": {},
   "outputs": [],
   "source": [
    "class DQN_Agent:\n",
    "    \n",
    "    def __init__(self, env,\n",
    "                 learning_rate = 1e-4, \n",
    "                 discount_rate = 0.99,\n",
    "                 eps_max = 0.9, \n",
    "                 eps_min = 0.01,\n",
    "                 eps_decay = 1e-6, \n",
    "                 boltzman_exploration = False,\n",
    "                 min_rb_size = int(2e4), \n",
    "                 sample_size = 100,\n",
    "                 model_train_freq = 100,\n",
    "                 tgt__train_freq = 5000,\n",
    "                 max_epoch = np.inf, \n",
    "                 load_model = None,\n",
    "                 device = 'cudo:0',\n",
    "                 name = 'Breakout'):\n",
    "        \n",
    "        self.lr = learning_rate\n",
    "        self.gamma = discount_rate\n",
    "        self.eps_max = eps_max\n",
    "        self.eps_min = eps_min\n",
    "        self.eps_decay = eps_decay\n",
    "        \n",
    "        self.boltzman = boltzman_exploration \n",
    "        self.min_rb = min_rb_size\n",
    "        self.sample_size = sample_size \n",
    "        self.model_train_freq = model_train_freq \n",
    "        self.tgt_train_freq = tgt__train_freq\n",
    "        self.max_epoch = max_epoch \n",
    "        self.chkpt = load_model\n",
    "        self.device = device\n",
    "        self.name = name\n",
    "        \n",
    "        # init env w/ frame stacking wrapper\n",
    "        self.env = env #gym.make(\"Breakout-v0\")\n",
    "        self.env = FrameStackingEnv(self.env, 84, 84, num_stack = 4)  \n",
    "        \n",
    "        return\n",
    "    \n",
    "    def choose_action(self, eps):\n",
    "        \n",
    "        if self.boltzman: # \n",
    "                logits = self.m(torch.Tensor(self.last_observation).unsqueeze(0).to(self.device))[0]\n",
    "                action = torch.distributions.Categorical(logits = logits).sample().item()\n",
    "        else:\n",
    "            if np.random.random() < eps: # epsilon greedy\n",
    "                action = self.env.action_space.sample()\n",
    "            else:\n",
    "                action = self.m(torch.Tensor(self.last_observation)\n",
    "                           .unsqueeze(0).to(self.device)).max(-1)[-1].item()\n",
    "        return action\n",
    "    \n",
    "    def run_episode(self, episode):\n",
    "        \n",
    "        # compute decaying exploration rate as a function of episode\n",
    "        eps = (self.eps_max - self.eps_min) * np.exp(-self.eps_decay*episode) + self.eps_min\n",
    "        self.last_observation = self.env.reset()\n",
    "        done = False\n",
    "        \n",
    "        rolling_reward = 0\n",
    "        while not done: # until episode ends\n",
    "            self.tq.update()\n",
    "\n",
    "            # choose action\n",
    "            action = self.choose_action(eps)\n",
    "\n",
    "            # observe state reward\n",
    "            obs, reward, done, info = self.env.step(action)\n",
    "            rolling_reward += reward # sum reward for episode\n",
    "\n",
    "\n",
    "            self.rb.insert(Sars(self.last_observation, action, reward, obs, done))\n",
    "\n",
    "            self.last_observation = obs\n",
    "\n",
    "            self.steps_since_train += 1\n",
    "            self.step_num += 1\n",
    "\n",
    "            if self.rb.idx > self.min_rb and self.steps_since_train > self.model_train_freq:\n",
    "\n",
    "                # train model neural network\n",
    "                loss = self.train_NN(self.m, \n",
    "                                     self.rb.sample(self.sample_size), \n",
    "                                     self.tgt,\n",
    "                                     self.env.action_space.n,\n",
    "                                     self.device)\n",
    "                self.steps_since_train = 0 # reset train counter\n",
    "\n",
    "                wandb.log({'loss': loss.detach().cpu().item(), \n",
    "                           'epsilon': eps, \n",
    "                           'avg_reward': np.mean(self.episode_rewards[-1])}, \n",
    "                          step = self.step_num) # self.step_num\n",
    "                self.save_reward = np.mean(self.episode_rewards[-1])\n",
    "\n",
    "                self.epochs_since_tgt_update +=1\n",
    "\n",
    "                if self.epochs_since_tgt_update > self.tgt_train_freq:\n",
    "                    self.tgt.load_state_dict(self.m.state_dict())\n",
    "                    self.epochs_since_tgt_update = 0\n",
    "\n",
    "                self.epoch += 1\n",
    "                    \n",
    "        return rolling_reward # return episode rewards\n",
    "    \n",
    "    def train_NN(self, \n",
    "                 model,\n",
    "                 state_transitions, \n",
    "                 tgt, \n",
    "                 num_actions, \n",
    "                 device):\n",
    "        \n",
    "        \n",
    "        curr_states = torch.stack([torch.Tensor(s.state) for s in state_transitions]).to(device)\n",
    "        rewards = torch.stack([torch.Tensor([s.reward]) for s in state_transitions]).to(device)\n",
    "        mask = torch.stack([torch.Tensor([0]) if s.done else torch.Tensor([1]) for s in state_transitions]).to(device)\n",
    "        next_states = torch.stack([torch.Tensor(s.next_state) for s in state_transitions]).to(device)\n",
    "        actions = [s.action for s in state_transitions]\n",
    "\n",
    "        with torch.no_grad():\n",
    "            qvals_next = tgt(next_states).max(-1)[0] #(N, num_actions)\n",
    "\n",
    "        model.opt.zero_grad()\n",
    "        qvals = model(curr_states) # (N, num_actins)\n",
    "        one_hot_actions = F.one_hot(torch.LongTensor(actions), num_actions).to(device)\n",
    "\n",
    "        #loss = ((rewards + mask[:,0]*qvals_next - torch.sum(qvals * one_hot_actions, -1))**2).mean()\n",
    "\n",
    "        loss_fn = nn.SmoothL1Loss()\n",
    "        target = torch.sum(qvals * one_hot_actions, -1)\n",
    "        inputs = rewards.squeeze() + mask[:,0]*self.gamma*qvals_next\n",
    "        loss = loss_fn(target, inputs )\n",
    "        loss.backward()\n",
    "        model.opt.step()\n",
    "\n",
    "        return loss\n",
    "    \n",
    "    def train(self):\n",
    "        \n",
    "        # init w and b for data viz\n",
    "        wandb.init(project = \"DQN_practice\", name = self.name)\n",
    "        \n",
    "        # init env w/ frame stacking wrapper\n",
    "        #self.env = gym.make(\"Breakout-v0\")\n",
    "        #self.env = FrameStackingEnv(self.env, 84, 84, num_stack = 4)       \n",
    "        \n",
    "        # instantiate prediction network\n",
    "        self.m = ConvModel(self.env.observation_space.shape,\n",
    "                           self.env.action_space.n, lr = self.lr).to(self.device)\n",
    "        if self.chkpt is not None:\n",
    "            self.m.load_state_dict(torch.load(self.chkpt))\n",
    "        \n",
    "        # instantiate target network\n",
    "        self.tgt = ConvModel(self.env.observation_space.shape, \n",
    "                        self.env.action_space.n, lr = self.lr).to(self.device)\n",
    "        self.tgt.load_state_dict(self.m.state_dict()) \n",
    "        \n",
    "        # instantiate buffer\n",
    "        self.rb = ReplayBuffer()\n",
    "        \n",
    "        # init counters\n",
    "        self.epoch = 0\n",
    "        self.steps_since_train = 0\n",
    "        self.epochs_since_tgt_update = 0\n",
    "        self.step_num = -self.min_rb\n",
    "        self.episode_rewards = []\n",
    "        episode = 0\n",
    "        \n",
    "        self.tq = tqdm()\n",
    "        try:\n",
    "            while self.epoch < self.max_epoch:\n",
    "\n",
    "                self.episode_rewards.append(self.run_episode(episode))\n",
    "                episode += 1\n",
    "                clear_output(wait=True)\n",
    "                \n",
    "        except KeyboardInterrupt:\n",
    "            torch.save(self.tgt.state_dict(), \n",
    "                   f\"models/Breakout_{self.step_num}_{int(self.save_reward)}.pth\")\n",
    "            print('Training Interrupted')\n",
    "        \n",
    "    \n",
    "    def test_episode(self, max_steps = 1000, plot = False, load_model = None):\n",
    "        \n",
    "        self.m = ConvModel(self.env.observation_space.shape,\n",
    "                           self.env.action_space.n, lr = self.lr).to(self.device)\n",
    "        if load_model is not None:\n",
    "            self.m.load_state_dict(torch.load(load_model))\n",
    "            \n",
    "        frames = []\n",
    "        obs = self.env.reset()\n",
    "        frames.append(self.env.frame)\n",
    "        \n",
    "        idx = 0\n",
    "        reward = 0\n",
    "        done = False\n",
    "        \n",
    "        while not done:\n",
    "            \n",
    "            action = self.m(torch.Tensor(obs).unsqueeze(0).to(self.device)).max(-1)[-1].item()\n",
    "            obs, r, done, _ = self.env.step(action)\n",
    "            reward += r\n",
    "            frames.append(self.env.frame)\n",
    "            \n",
    "            if plot:\n",
    "                a = self.env.env.render(mode = 'rgb_array')\n",
    "                plt.figure()\n",
    "                plt.imshow(a)\n",
    "                plt.show()\n",
    "                #time.sleep(0.001)\n",
    "                clear_output(wait=True)\n",
    "                \n",
    "        return reward, np.stack(frames, 0)\n",
    "    "
   ]
  },
  {
   "cell_type": "code",
   "execution_count": 9,
   "metadata": {},
   "outputs": [],
   "source": [
    "env = gym.make(\"Breakout-v0\")"
   ]
  },
  {
   "cell_type": "code",
   "execution_count": 10,
   "metadata": {},
   "outputs": [
    {
     "data": {
      "text/plain": [
       "(210, 160, 3)"
      ]
     },
     "execution_count": 10,
     "metadata": {},
     "output_type": "execute_result"
    }
   ],
   "source": [
    "env.observation_space.shape"
   ]
  },
  {
   "cell_type": "code",
   "execution_count": 11,
   "metadata": {},
   "outputs": [],
   "source": [
    "obs = env.reset()"
   ]
  },
  {
   "cell_type": "code",
   "execution_count": 12,
   "metadata": {},
   "outputs": [
    {
     "data": {
      "text/plain": [
       "<matplotlib.image.AxesImage at 0x1d15a9d5df0>"
      ]
     },
     "execution_count": 12,
     "metadata": {},
     "output_type": "execute_result"
    },
    {
     "data": {
      "image/png": "[encoded data removed]",
      "text/plain": [
       "<Figure size 720x432 with 1 Axes>"
      ]
     },
     "metadata": {
      "needs_background": "light"
     },
     "output_type": "display_data"
    }
   ],
   "source": [
    "plt.imshow(obs)"
   ]
  },
  {
   "cell_type": "code",
   "execution_count": 13,
   "metadata": {},
   "outputs": [
    {
     "data": {
      "text/plain": [
       "(210, 160, 3)"
      ]
     },
     "execution_count": 13,
     "metadata": {},
     "output_type": "execute_result"
    }
   ],
   "source": [
    "obs.shape"
   ]
  },
  {
   "cell_type": "code",
   "execution_count": 14,
   "metadata": {},
   "outputs": [],
   "source": [
    "Agent = DQN_Agent(env,\n",
    "                 learning_rate = 1e-4, \n",
    "                 discount_rate = 0.99,\n",
    "                 eps_max = 0.90, \n",
    "                 eps_min = 0.10,\n",
    "                 eps_decay = 5e-5, \n",
    "                 boltzman_exploration = False,\n",
    "                 min_rb_size = int(5e4), \n",
    "                 sample_size = 100,\n",
    "                 model_train_freq = 100,\n",
    "                 tgt__train_freq = 5000,\n",
    "                 max_epoch = np.inf, \n",
    "                 load_model = None,#'models/Breakout_4069834_26.pth',\n",
    "                 device = 'cuda:0',\n",
    "                 name = 'from_scratch')\n",
    "\n"
   ]
  },
  {
   "cell_type": "code",
   "execution_count": 15,
   "metadata": {},
   "outputs": [
    {
     "data": {
      "text/plain": [
       "(4, 84, 84)"
      ]
     },
     "execution_count": 15,
     "metadata": {},
     "output_type": "execute_result"
    }
   ],
   "source": [
    "Agent.env.observation_space.shape"
   ]
  },
  {
   "cell_type": "code",
   "execution_count": null,
   "metadata": {
    "scrolled": true
   },
   "outputs": [
    {
     "name": "stderr",
     "output_type": "stream",
     "text": [
      "65042381it [28:27:24, 661.21it/s]"
     ]
    }
   ],
   "source": [
    "Agent.train()"
   ]
  },
  {
   "cell_type": "code",
   "execution_count": null,
   "metadata": {},
   "outputs": [],
   "source": []
  },
  {
   "cell_type": "code",
   "execution_count": null,
   "metadata": {},
   "outputs": [],
   "source": []
  },
  {
   "cell_type": "code",
   "execution_count": 27,
   "metadata": {},
   "outputs": [
    {
     "name": "stdout",
     "output_type": "stream",
     "text": [
      "23.0\n",
      "45.0\n",
      "111.0\n",
      "39.0\n",
      "34.0\n",
      "79.0\n",
      "62.0\n",
      "30.0\n",
      "62.0\n",
      "88.0\n"
     ]
    }
   ],
   "source": [
    "rs = []\n",
    "for i in range(10):\n",
    "    r, f = Agent.test_episode(max_steps = 100000, \n",
    "                              plot = False, \n",
    "                              load_model = 'models/Breakout_1229777_25.pth')\n",
    "    rs.append(r)\n",
    "    print(r)"
   ]
  },
  {
   "cell_type": "code",
   "execution_count": null,
   "metadata": {},
   "outputs": [],
   "source": [
    "print('Average Reward = ', np.mean(rs))"
   ]
  },
  {
   "cell_type": "code",
   "execution_count": 28,
   "metadata": {},
   "outputs": [
    {
     "data": {
      "image/png": "[encoded data removed]",
      "text/plain": [
       "<Figure size 720x432 with 1 Axes>"
      ]
     },
     "metadata": {
      "needs_background": "light"
     },
     "output_type": "display_data"
    }
   ],
   "source": [
    "speed = 5 # 5x speed\n",
    "for im in range(0,len(f), speed):\n",
    "    plt.imshow(f[im])\n",
    "    plt.show()\n",
    "    #time.sleep(0.01)\n",
    "    clear_output(wait=True)"
   ]
  },
  {
   "cell_type": "code",
   "execution_count": 19,
   "metadata": {},
   "outputs": [
    {
     "data": {
      "text/plain": [
       "(210, 160, 3)"
      ]
     },
     "execution_count": 19,
     "metadata": {},
     "output_type": "execute_result"
    }
   ],
   "source": [
    "f[1].shape"
   ]
  },
  {
   "cell_type": "code",
   "execution_count": null,
   "metadata": {},
   "outputs": [],
   "source": []
  }
 ],
 "metadata": {
  "kernelspec": {
   "display_name": "Python 3",
   "language": "python",
   "name": "python3"
  },
  "language_info": {
   "codemirror_mode": {
    "name": "ipython",
    "version": 3
   },
   "file_extension": ".py",
   "mimetype": "text/x-python",
   "name": "python",
   "nbconvert_exporter": "python",
   "pygments_lexer": "ipython3",
   "version": "3.8.3"
  }
 },
 "nbformat": 4,
 "nbformat_minor": 4
}
